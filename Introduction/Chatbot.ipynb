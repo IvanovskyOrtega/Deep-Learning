{
  "nbformat": 4,
  "nbformat_minor": 0,
  "metadata": {
    "colab": {
      "name": "Copia de Ejemplo_Python-basico.ipynb",
      "version": "0.3.2",
      "provenance": []
    },
    "kernelspec": {
      "display_name": "Python 3",
      "language": "python",
      "name": "python3"
    }
  },
  "cells": [
    {
      "metadata": {
        "id": "R0udSu24mJS6",
        "colab_type": "text"
      },
      "cell_type": "markdown",
      "source": [
        "# Chatbot agencia ford"
      ]
    },
    {
      "metadata": {
        "id": "ddXRY3homJS8",
        "colab_type": "code",
        "colab": {}
      },
      "cell_type": "code",
      "source": [
        "#inicialización de estados \n",
        "import re\n",
        "import time"
      ],
      "execution_count": 0,
      "outputs": []
    },
    {
      "metadata": {
        "id": "G83YtbkomJTB",
        "colab_type": "code",
        "colab": {}
      },
      "cell_type": "code",
      "source": [
        " # Lenguaje natural por expresiones regulares \n",
        "Promo_RE = r\"promociones|promos?|descuentos\"\n",
        "Cita_RE = r\"cita|servicio|agendar\"\n",
        "Venta_RE = r\"venta|comprar|venden\"\n",
        "placa_Re = r\"\\d\\d\\d[\\s| |-]?\\w\\w\\w\" \n",
        "afirmacion_RE = r\"s[i|í]|claro|definitavamente\"\n",
        "dias_RE = r\"lunes|martes|miercoles|miércoles|jueves|viernes|sábado|sabado\"\n",
        "horario_RE1 = r\"(2[0-3]|[01]?\\d)(:[0-5]\\d)?\"\n",
        "horario_RE2 = \"(una|dos|tres|cuatro|cinco|seis|siete|ocho|nueve|diez|once|doce) ?(y (cuarto|media))?\""
      ],
      "execution_count": 0,
      "outputs": []
    },
    {
      "metadata": {
        "id": "eHPKUA-dmJTF",
        "colab_type": "code",
        "outputId": "9eaab54d-c850-4d5b-ae49-e77314e933be",
        "colab": {
          "base_uri": "https://localhost:8080/",
          "height": 1122
        }
      },
      "cell_type": "code",
      "source": [
        "state=0\n",
        "Salida=1\n",
        "while Salida:\n",
        "    if state==0:\n",
        "        print(\"Hola soy el Chatbot de la FORD ¿En qué te puedo ayudar?\")\n",
        "        time.sleep(1)\n",
        "        opcion=input(\"Soy capaz de informarte de nuestras promociones, venta de vehículos y ayudarte a agendar un cita.\\n\\t\\t\\t\")\n",
        "        if re.findall(Promo_RE, opcion, flags=0)!=[]:\n",
        "            state=1\n",
        "        elif re.findall(Cita_RE, opcion, flags=0)!=[]: \n",
        "            state=2\n",
        "        elif re.findall(Venta_RE, opcion, flags=0)!=[]:  \n",
        "            state=5\n",
        "    \n",
        "    # Consulta de Promociones\n",
        "    if state == 1:\n",
        "        time.sleep(1)\n",
        "        print(\"Puedes consultar nuestras promociones en https://www.ford.mx/compra/promociones\")\n",
        "        state=6\n",
        "    \n",
        "    # Agendar una cita\n",
        "    if state == 2:\n",
        "        # Solo será posible agendar la cita de lunes a sábado\n",
        "        time.sleep(1)\n",
        "        dia = input(\"¿Que dia te gustaria?.\\n\\t\\t\\t\")\n",
        "        if re.findall(dias_RE,dia,flags=0) != []:\n",
        "            state = 3\n",
        "        else:\n",
        "            time.sleep(1)\n",
        "            print(\"No es posible agendar la cita en ese dia.\")\n",
        "            state = 6\n",
        "            \n",
        "    if state == 3:\n",
        "        time.sleep(1)\n",
        "        horario = input(\"¿En que horario?. \\n\\t\\t\\t\")\n",
        "        if re.findall(horario_RE1,horario,flags=0) != [] or re.findall(horario_RE2,horario,flags=0) != []:\n",
        "            state = 4\n",
        "        else:\n",
        "            time.sleep(1)\n",
        "            print(\"No es posible agendar la cita en ese horario.\")\n",
        "            state = 6\n",
        "            \n",
        "    if state == 4:\n",
        "        time.sleep(1)\n",
        "        print(\"Te comunicaremos con un operador.\")\n",
        "        state = 6\n",
        "    \n",
        "    # Información de Ventas\n",
        "    if state == 5:\n",
        "        # De momento sin validación de correo\n",
        "        correo = input(\"Escribe tu correo y te contactaremos en breve.\\n\\t\\t\\t\")\n",
        "        time.sleep(2)\n",
        "        print(\"Hemos enviado un correo a {0}. Por favor revisa tu bandeja de entrada.\".format(correo))\n",
        "        state = 6\n",
        "    \n",
        "    # Salida o solicitar algo más.\n",
        "    if state == 6:\n",
        "        time.sleep(1)\n",
        "        opcion=input(\"¿Te puedo ayudar en algo más?  \\n\\t\\t\\t\")\n",
        "        if re.findall(afirmacion_RE, opcion, flags=0!=[]):\n",
        "            state=0\n",
        "        else:\n",
        "            time.sleep(1)\n",
        "            print(\"Gracias fue un placer atenderte\")\n",
        "            Salida=0\n",
        "        \n",
        "        \n",
        "        "
      ],
      "execution_count": 3,
      "outputs": [
        {
          "output_type": "stream",
          "text": [
            "Hola soy el Chatbot de la FORD ¿En qué te puedo ayudar?\n",
            "Soy capaz de informarte de nuestras promociones, venta de vehículos y ayudarte a agendar un cita.\n",
            "\t\t\tquiero comprar una lobo\n",
            "Escribe tu correo y te contactaremos en breve.\n",
            "\t\t\tmail@domain.com\n",
            "Hemos enviado un correo a mail@domain.com. Por favor revisa tu bandeja de entrada.\n",
            "¿Te puedo ayudar en algo más?  \n",
            "\t\t\tsi por fa\n",
            "Hola soy el Chatbot de la FORD ¿En qué te puedo ayudar?\n",
            "Soy capaz de informarte de nuestras promociones, venta de vehículos y ayudarte a agendar un cita.\n",
            "\t\t\tquiero agendar una cita\n",
            "¿Que dia te gustaria?.\n",
            "\t\t\ten domingo\n",
            "No es posible agendar la cita en ese dia.\n",
            "¿Te puedo ayudar en algo más?  \n",
            "\t\t\tchalesssss, si \n",
            "Hola soy el Chatbot de la FORD ¿En qué te puedo ayudar?\n",
            "Soy capaz de informarte de nuestras promociones, venta de vehículos y ayudarte a agendar un cita.\n",
            "\t\t\tuna cita pero otro dia\n",
            "¿Que dia te gustaria?.\n",
            "\t\t\tel lunes\n",
            "¿En que horario?. \n",
            "\t\t\tcomo a las tres y cuarto\n",
            "Te comunicaremos con un operador.\n",
            "¿Te puedo ayudar en algo más?  \n",
            "\t\t\thíjoles, si me quivoqué\n",
            "Hola soy el Chatbot de la FORD ¿En qué te puedo ayudar?\n",
            "Soy capaz de informarte de nuestras promociones, venta de vehículos y ayudarte a agendar un cita.\n",
            "\t\t\tagendar la cita otra vez\n",
            "¿Que dia te gustaria?.\n",
            "\t\t\tel martes mejor, ese dia no chambeo\n",
            "¿En que horario?. \n",
            "\t\t\tcomo a las 2\n",
            "Te comunicaremos con un operador.\n",
            "¿Te puedo ayudar en algo más?  \n",
            "\t\t\tsi\n",
            "Hola soy el Chatbot de la FORD ¿En qué te puedo ayudar?\n",
            "Soy capaz de informarte de nuestras promociones, venta de vehículos y ayudarte a agendar un cita.\n",
            "\t\t\tdonde puedo ver sus promos?\n",
            "Puedes consultar nuestras promociones en https://www.ford.mx/compra/promociones\n",
            "¿Te puedo ayudar en algo más?  \n",
            "\t\t\tsi\n",
            "Hola soy el Chatbot de la FORD ¿En qué te puedo ayudar?\n",
            "Soy capaz de informarte de nuestras promociones, venta de vehículos y ayudarte a agendar un cita.\n",
            "\t\t\tvenden tamales?\n",
            "Escribe tu correo y te contactaremos en breve.\n",
            "\t\t\tivan@mail.com\n",
            "Hemos enviado un correo a ivan@mail.com. Por favor revisa tu bandeja de entrada.\n",
            "¿Te puedo ayudar en algo más?  \n",
            "\t\t\tsi\n",
            "Hola soy el Chatbot de la FORD ¿En qué te puedo ayudar?\n",
            "Soy capaz de informarte de nuestras promociones, venta de vehículos y ayudarte a agendar un cita.\n",
            "\t\t\tquiero comprar un mustang\n",
            "Escribe tu correo y te contactaremos en breve.\n",
            "\t\t\tnovalidaelemail@mail.com\n",
            "Hemos enviado un correo a novalidaelemail@mail.com. Por favor revisa tu bandeja de entrada.\n",
            "¿Te puedo ayudar en algo más?  \n",
            "\t\t\tcreo que si\n",
            "Hola soy el Chatbot de la FORD ¿En qué te puedo ayudar?\n",
            "Soy capaz de informarte de nuestras promociones, venta de vehículos y ayudarte a agendar un cita.\n",
            "\t\t\tque promociones tienen?\n",
            "Puedes consultar nuestras promociones en https://www.ford.mx/compra/promociones\n",
            "¿Te puedo ayudar en algo más?  \n",
            "\t\t\tSería todo, gracias :D\n",
            "Gracias fue un placer atenderte\n"
          ],
          "name": "stdout"
        }
      ]
    },
    {
      "metadata": {
        "id": "3f7a0EyTmJTL",
        "colab_type": "code",
        "outputId": "0b30a178-2c66-49de-cc4d-ccd5955f5b2c",
        "colab": {
          "base_uri": "https://localhost:8080/",
          "height": 34
        }
      },
      "cell_type": "code",
      "source": [
        "re.findall(Cita_RE, \"quiero una\", flags=0)"
      ],
      "execution_count": 4,
      "outputs": [
        {
          "output_type": "execute_result",
          "data": {
            "text/plain": [
              "[]"
            ]
          },
          "metadata": {
            "tags": []
          },
          "execution_count": 4
        }
      ]
    },
    {
      "metadata": {
        "id": "4SAYQECCmJTR",
        "colab_type": "code",
        "colab": {}
      },
      "cell_type": "code",
      "source": [
        ""
      ],
      "execution_count": 0,
      "outputs": []
    }
  ]
}